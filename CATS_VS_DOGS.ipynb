{
  "nbformat": 4,
  "nbformat_minor": 0,
  "metadata": {
    "colab": {
      "name": "CATS VS DOGS",
      "provenance": [],
      "collapsed_sections": [],
      "authorship_tag": "ABX9TyPsN8yC3xhcvwhLwNvgWSOK",
      "include_colab_link": true
    },
    "kernelspec": {
      "name": "python3",
      "display_name": "Python 3"
    },
    "accelerator": "GPU"
  },
  "cells": [
    {
      "cell_type": "markdown",
      "metadata": {
        "id": "view-in-github",
        "colab_type": "text"
      },
      "source": [
        "<a href=\"https://colab.research.google.com/github/Pritamck13/Machine-Learning/blob/main/CATS_VS_DOGS.ipynb\" target=\"_parent\"><img src=\"https://colab.research.google.com/assets/colab-badge.svg\" alt=\"Open In Colab\"/></a>"
      ]
    },
    {
      "cell_type": "markdown",
      "metadata": {
        "id": "EKqKHr5jADEi"
      },
      "source": [
        "**Cats vs Dogs **\r\n",
        "\r\n",
        "---\r\n",
        "\r\n"
      ]
    },
    {
      "cell_type": "code",
      "metadata": {
        "id": "teMu5HH28kaM"
      },
      "source": [
        "pip install -q keras"
      ],
      "execution_count": null,
      "outputs": []
    },
    {
      "cell_type": "code",
      "metadata": {
        "colab": {
          "base_uri": "https://localhost:8080/"
        },
        "id": "rRphtEIDOVpz",
        "outputId": "e3aa52e5-6199-4cef-fecc-85d569f95e03"
      },
      "source": [
        "from google.colab import drive\r\n",
        "drive.mount('/content/drive')"
      ],
      "execution_count": null,
      "outputs": [
        {
          "output_type": "stream",
          "text": [
            "Mounted at /content/drive\n"
          ],
          "name": "stdout"
        }
      ]
    },
    {
      "cell_type": "code",
      "metadata": {
        "colab": {
          "base_uri": "https://localhost:8080/"
        },
        "id": "XPSE_kTgSaRA",
        "outputId": "801c218e-901b-41c2-f5c4-1c133fd73693"
      },
      "source": [
        "!apt install unzip\r\n"
      ],
      "execution_count": null,
      "outputs": [
        {
          "output_type": "stream",
          "text": [
            "Reading package lists... Done\n",
            "Building dependency tree       \n",
            "Reading state information... Done\n",
            "unzip is already the newest version (6.0-21ubuntu1.1).\n",
            "0 upgraded, 0 newly installed, 0 to remove and 11 not upgraded.\n"
          ],
          "name": "stdout"
        }
      ]
    },
    {
      "cell_type": "code",
      "metadata": {
        "id": "OFAWRbbRKxW3"
      },
      "source": [
        "!rm -rf /content/CATS_DOGS/test1/dogs"
      ],
      "execution_count": null,
      "outputs": []
    },
    {
      "cell_type": "code",
      "metadata": {
        "id": "IgfYo-6JTdpb"
      },
      "source": [
        "!unzip -q  /content/drive/MyDrive/CATS_DOGS.zip -d /content/\r\n"
      ],
      "execution_count": null,
      "outputs": []
    },
    {
      "cell_type": "code",
      "metadata": {
        "id": "zo0YYyPRpnB1"
      },
      "source": [
        "!unzip -q  /content/drive/MyDrive/train.zip -d /content/CATS_DOGS/train"
      ],
      "execution_count": null,
      "outputs": []
    },
    {
      "cell_type": "code",
      "metadata": {
        "id": "ZsqbFdlMIpxx"
      },
      "source": [
        "import tensorflow as tf\r\n",
        "import os\r\n",
        "import shutil"
      ],
      "execution_count": null,
      "outputs": []
    },
    {
      "cell_type": "code",
      "metadata": {
        "id": "5xnbwei6aHF0"
      },
      "source": [
        ""
      ],
      "execution_count": null,
      "outputs": []
    },
    {
      "cell_type": "code",
      "metadata": {
        "id": "H5IvjalKgL6R"
      },
      "source": [
        "train_data = '/content/CATS_DOGS/train'\r\n",
        "test_data = '/content/CATS_DOGS/test1'\r\n",
        "validation_data ='/content/CATS_DOGS/validation' "
      ],
      "execution_count": null,
      "outputs": []
    },
    {
      "cell_type": "code",
      "metadata": {
        "id": "jFs2GlD1Lvyz"
      },
      "source": [
        "train_cats_dir = os.path.join(train_data,'cats')\r\n",
        "os.mkdir(train_cats_dir)\r\n",
        "\r\n",
        "  "
      ],
      "execution_count": null,
      "outputs": []
    },
    {
      "cell_type": "code",
      "metadata": {
        "id": "9FZFMNMIMKqx"
      },
      "source": [
        "train_dogs_dir = os.path.join(train_data,'dogs')\r\n",
        "os.mkdir(train_dogs_dir)\r\n",
        "\r\n"
      ],
      "execution_count": null,
      "outputs": []
    },
    {
      "cell_type": "code",
      "metadata": {
        "id": "jCx6QF5Yqpms"
      },
      "source": [
        "\r\n",
        "test_dogs_dir = os.path.join(test_data,'dogs')\r\n",
        "os.mkdir(test_dogs_dir)"
      ],
      "execution_count": null,
      "outputs": []
    },
    {
      "cell_type": "code",
      "metadata": {
        "id": "Ec6fFf1kLAoU"
      },
      "source": [
        "test_cats_dir = os.path.join(test_data,'cats')\r\n",
        "os.mkdir(test_cats_dir)\r\n"
      ],
      "execution_count": null,
      "outputs": []
    },
    {
      "cell_type": "code",
      "metadata": {
        "id": "KkTmKqdkM-dF"
      },
      "source": [
        "validation_dir = os.path.join('/content/CATS_DOGS','validation')\r\n",
        "os.mkdir(validation_dir)\r\n",
        "\r\n",
        "\r\n",
        "\r\n",
        "\r\n",
        "validation_cats_dir = os.path.join(validation__dir,'cats')\r\n",
        "os.mkdir(validation_cats_dir)\r\n",
        "\r\n",
        "validation_dogs_dir = os.path.join(validation__dir,'dogs')\r\n",
        "os.mkdir(validation_dogs_dir)"
      ],
      "execution_count": null,
      "outputs": []
    },
    {
      "cell_type": "code",
      "metadata": {
        "id": "xY5GDtBGFLcT"
      },
      "source": [
        "fnames = [f'cat.{i}.jpg' for i in range(3000)]\r\n",
        "for fn in fnames:\r\n",
        "  search = os.path.join('/content/CATS_DOGS/train/train',fn)\r\n",
        "  dst = os.path.join('/content/CATS_DOGS/train/cats',fn)\r\n",
        "  shutil.copy(search,dst)\r\n",
        "\r\n",
        "fnames = [f'cat.{i}.jpg' for i in range(3000,5500)]\r\n",
        "for fn in fnames:\r\n",
        "  search = os.path.join('/content/CATS_DOGS/train/train',fn)\r\n",
        "  dst = os.path.join('/content/CATS_DOGS/validation/cats',fn)\r\n",
        "  shutil.copy(search,dst)\r\n",
        "\r\n",
        "\r\n",
        "fnames = [f'cat.{i}.jpg' for i in range(5500,8000)]\r\n",
        "for fn in fnames:\r\n",
        "  search = os.path.join('/content/CATS_DOGS/train/train',fn)\r\n",
        "  dst = os.path.join('/content/CATS_DOGS/test1/cats',fn)\r\n",
        "  shutil.copy(search,dst)\r\n",
        "\r\n",
        "\r\n"
      ],
      "execution_count": null,
      "outputs": []
    },
    {
      "cell_type": "code",
      "metadata": {
        "id": "3Bm6f0hGHuyr"
      },
      "source": [
        "fnames = [f'dog.{i}.jpg' for i in range(3000)]\r\n",
        "for fn in fnames:\r\n",
        "  search = os.path.join('/content/CATS_DOGS/train/train',fn)\r\n",
        "  dst = os.path.join('/content/CATS_DOGS/train/dogs',fn)\r\n",
        "  shutil.copy(search,dst)\r\n",
        "\r\n",
        "fnames = [f'dog.{i}.jpg' for i in range(3000,5500)]\r\n",
        "for fn in fnames:\r\n",
        "  search = os.path.join('/content/CATS_DOGS/train/train',fn)\r\n",
        "  dst = os.path.join('/content/CATS_DOGS/validation/dogs',fn)\r\n",
        "  shutil.copy(search,dst)\r\n",
        "\r\n",
        "\r\n",
        "\r\n",
        "\r\n"
      ],
      "execution_count": null,
      "outputs": []
    },
    {
      "cell_type": "code",
      "metadata": {
        "id": "DGualw09q2qa"
      },
      "source": [
        "fnames = [f'dog.{i}.jpg' for i in range(5500,8000)]\r\n",
        "for fn in fnames:\r\n",
        "  search = os.path.join('/content/CATS_DOGS/train/train/train',fn)\r\n",
        "  dst = os.path.join('/content/CATS_DOGS/test1/dogs',fn)\r\n",
        "  shutil.copy(search,dst)"
      ],
      "execution_count": null,
      "outputs": []
    },
    {
      "cell_type": "code",
      "metadata": {
        "colab": {
          "base_uri": "https://localhost:8080/"
        },
        "id": "6cjoo092IATw",
        "outputId": "81c7ff9f-bbb9-4f54-dfe4-75208357558b"
      },
      "source": [
        "print('total training cat images:', len(os.listdir('/content/CATS_DOGS/train/cats')))"
      ],
      "execution_count": null,
      "outputs": [
        {
          "output_type": "stream",
          "text": [
            "total training cat images: 3000\n"
          ],
          "name": "stdout"
        }
      ]
    },
    {
      "cell_type": "code",
      "metadata": {
        "colab": {
          "base_uri": "https://localhost:8080/"
        },
        "id": "2OE-vBDbIKEl",
        "outputId": "7f05afff-5eae-4115-a6ba-8160ef10aba2"
      },
      "source": [
        "print('total testing cat images:', len(os.listdir('/content/CATS_DOGS/test1/cats')))"
      ],
      "execution_count": null,
      "outputs": [
        {
          "output_type": "stream",
          "text": [
            "total testing cat images: 2500\n"
          ],
          "name": "stdout"
        }
      ]
    },
    {
      "cell_type": "code",
      "metadata": {
        "colab": {
          "base_uri": "https://localhost:8080/"
        },
        "id": "Zk3svGZlIKHm",
        "outputId": "1e8ef8e7-db4c-4d5c-afc2-e0ac3ccf4509"
      },
      "source": [
        "print('total training cat images:', len(os.listdir('/content/CATS_DOGS/train/dogs')))"
      ],
      "execution_count": null,
      "outputs": [
        {
          "output_type": "stream",
          "text": [
            "total training cat images: 3000\n"
          ],
          "name": "stdout"
        }
      ]
    },
    {
      "cell_type": "code",
      "metadata": {
        "colab": {
          "base_uri": "https://localhost:8080/"
        },
        "id": "a1iDA-SHIKJn",
        "outputId": "9571f32e-1b4d-4261-e3fd-388dd49bdcfd"
      },
      "source": [
        "print('total testing cat images:', len(os.listdir('/content/CATS_DOGS/test1/dogs')))"
      ],
      "execution_count": null,
      "outputs": [
        {
          "output_type": "stream",
          "text": [
            "total testing cat images: 2500\n"
          ],
          "name": "stdout"
        }
      ]
    },
    {
      "cell_type": "code",
      "metadata": {
        "colab": {
          "base_uri": "https://localhost:8080/"
        },
        "id": "YMGZc2E3PCnT",
        "outputId": "ffde5d63-f2e8-459d-c6fa-87f8f0d33367"
      },
      "source": [
        "print('total validation cat images:', len(os.listdir('/content/CATS_DOGS/validation/cats')))"
      ],
      "execution_count": null,
      "outputs": [
        {
          "output_type": "stream",
          "text": [
            "total validation cat images: 2500\n"
          ],
          "name": "stdout"
        }
      ]
    },
    {
      "cell_type": "code",
      "metadata": {
        "colab": {
          "base_uri": "https://localhost:8080/"
        },
        "id": "j3UqH5H1PDAA",
        "outputId": "ec7781d6-6a14-4e68-a17e-0c067236ce7f"
      },
      "source": [
        "print('total validation dog images:', len(os.listdir('/content/CATS_DOGS/validation/dogs')))"
      ],
      "execution_count": null,
      "outputs": [
        {
          "output_type": "stream",
          "text": [
            "total validation dog images: 2500\n"
          ],
          "name": "stdout"
        }
      ]
    },
    {
      "cell_type": "code",
      "metadata": {
        "id": "1pkzN1FDIw2x"
      },
      "source": [
        "from keras import models\r\n",
        "from keras import layers"
      ],
      "execution_count": null,
      "outputs": []
    },
    {
      "cell_type": "code",
      "metadata": {
        "id": "dnMpSCewBnin"
      },
      "source": [
        "model = models.Sequential()"
      ],
      "execution_count": null,
      "outputs": []
    },
    {
      "cell_type": "code",
      "metadata": {
        "id": "OHxKBrabDdSY"
      },
      "source": [
        "model.add(layers.Conv2D(32,(3,3),activation='relu',input_shape = (150,150,3)))\r\n",
        "model.add(layers.MaxPooling2D((2,2)))\r\n",
        "\r\n",
        "model.add(layers.Conv2D(64,(3,3), activation='relu'))\r\n",
        "model.add(layers.MaxPooling2D((2,2)))\r\n",
        "\r\n",
        "model.add(layers.Conv2D(128,(3,3), activation='relu'))\r\n",
        "model.add(layers.MaxPooling2D((2,2)))\r\n",
        "\r\n",
        "model.add(layers.Conv2D(128,(3,3), activation='relu'))\r\n",
        "model.add(layers.MaxPooling2D((2,2)))\r\n",
        "\r\n",
        "model.add(layers.Flatten())\r\n",
        "\r\n",
        "model.add(layers.Dense(512,activation='relu'))\r\n",
        "model.add(layers.Dense(1,activation = 'sigmoid'))"
      ],
      "execution_count": null,
      "outputs": []
    },
    {
      "cell_type": "code",
      "metadata": {
        "colab": {
          "base_uri": "https://localhost:8080/"
        },
        "id": "6xUAmLH9DfEX",
        "outputId": "16d89c30-de3b-4711-9f14-84e2fdfa7581"
      },
      "source": [
        "model.summary()"
      ],
      "execution_count": null,
      "outputs": [
        {
          "output_type": "stream",
          "text": [
            "Model: \"sequential_8\"\n",
            "_________________________________________________________________\n",
            "Layer (type)                 Output Shape              Param #   \n",
            "=================================================================\n",
            "conv2d_28 (Conv2D)           (None, 148, 148, 32)      896       \n",
            "_________________________________________________________________\n",
            "max_pooling2d_28 (MaxPooling (None, 74, 74, 32)        0         \n",
            "_________________________________________________________________\n",
            "conv2d_29 (Conv2D)           (None, 72, 72, 64)        18496     \n",
            "_________________________________________________________________\n",
            "max_pooling2d_29 (MaxPooling (None, 36, 36, 64)        0         \n",
            "_________________________________________________________________\n",
            "conv2d_30 (Conv2D)           (None, 34, 34, 128)       73856     \n",
            "_________________________________________________________________\n",
            "max_pooling2d_30 (MaxPooling (None, 17, 17, 128)       0         \n",
            "_________________________________________________________________\n",
            "conv2d_31 (Conv2D)           (None, 15, 15, 128)       147584    \n",
            "_________________________________________________________________\n",
            "max_pooling2d_31 (MaxPooling (None, 7, 7, 128)         0         \n",
            "_________________________________________________________________\n",
            "flatten_7 (Flatten)          (None, 6272)              0         \n",
            "_________________________________________________________________\n",
            "dense_14 (Dense)             (None, 512)               3211776   \n",
            "_________________________________________________________________\n",
            "dense_15 (Dense)             (None, 1)                 513       \n",
            "=================================================================\n",
            "Total params: 3,453,121\n",
            "Trainable params: 3,453,121\n",
            "Non-trainable params: 0\n",
            "_________________________________________________________________\n"
          ],
          "name": "stdout"
        }
      ]
    },
    {
      "cell_type": "code",
      "metadata": {
        "id": "jPj4F4i8Dgo4"
      },
      "source": [
        "from keras import optimizers"
      ],
      "execution_count": null,
      "outputs": []
    },
    {
      "cell_type": "code",
      "metadata": {
        "id": "jTmaxB3HDj3I"
      },
      "source": [
        "model.compile(loss = 'binary_crossentropy',optimizer = optimizers.RMSprop(learning_rate=1e-4), metrics=['acc'])"
      ],
      "execution_count": null,
      "outputs": []
    },
    {
      "cell_type": "code",
      "metadata": {
        "id": "2mjVCQ2lDlWn"
      },
      "source": [
        "#Data preprocessing\r\n",
        "#Data should be transformed into preprocessed floating point tensors before feeding into the network"
      ],
      "execution_count": null,
      "outputs": []
    },
    {
      "cell_type": "code",
      "metadata": {
        "id": "_LuP60zODrk4"
      },
      "source": [
        "from keras.preprocessing.image import ImageDataGenerator"
      ],
      "execution_count": null,
      "outputs": []
    },
    {
      "cell_type": "code",
      "metadata": {
        "id": "oHl0GPAmDzCI"
      },
      "source": [
        "training_datagen = ImageDataGenerator(rescale= 1./255)\r\n",
        "test_datagen = ImageDataGenerator(rescale = 1./255)"
      ],
      "execution_count": null,
      "outputs": []
    },
    {
      "cell_type": "code",
      "metadata": {
        "colab": {
          "base_uri": "https://localhost:8080/"
        },
        "id": "_Xv4NBvdDzEs",
        "outputId": "e0d7c8dc-c698-491e-f48f-1794ba83b191"
      },
      "source": [
        "train_generator = training_datagen.flow_from_directory(train_data,target_size=(150,150),batch_size=20,class_mode='binary')\r\n",
        "test_generator = test_datagen.flow_from_directory(validation_data,target_size=(150,150),batch_size=20,class_mode='binary')"
      ],
      "execution_count": null,
      "outputs": [
        {
          "output_type": "stream",
          "text": [
            "Found 6000 images belonging to 2 classes.\n",
            "Found 5000 images belonging to 2 classes.\n"
          ],
          "name": "stdout"
        }
      ]
    },
    {
      "cell_type": "code",
      "metadata": {
        "colab": {
          "base_uri": "https://localhost:8080/"
        },
        "id": "PoDkmPwqDzG-",
        "outputId": "9fe5d4d6-3520-4f7b-9505-e7209317a43e"
      },
      "source": [
        "for data_batch, labels_batch in train_generator:\r\n",
        "    print('data batch shape:', data_batch.shape)\r\n",
        "    print('labels batch shape:', labels_batch.shape)\r\n",
        "    \r\n",
        "    break"
      ],
      "execution_count": null,
      "outputs": [
        {
          "output_type": "stream",
          "text": [
            "data batch shape: (20, 150, 150, 3)\n",
            "labels batch shape: (20,)\n"
          ],
          "name": "stdout"
        }
      ]
    },
    {
      "cell_type": "code",
      "metadata": {
        "id": "_5U9XFUAl6hS"
      },
      "source": [
        "from keras.callbacks import EarlyStopping\r\n",
        "early_stop =  EarlyStopping(monitor='val_acc',patience = 5)"
      ],
      "execution_count": null,
      "outputs": []
    },
    {
      "cell_type": "code",
      "metadata": {
        "colab": {
          "base_uri": "https://localhost:8080/"
        },
        "id": "kEI53K77DzuI",
        "outputId": "6af4062f-afe8-4098-d41a-ba0502dd108d"
      },
      "source": [
        "history= model.fit(train_generator,steps_per_epoch=100,epochs=50,validation_data=test_generator,callbacks=early_stop,validation_steps=50)"
      ],
      "execution_count": null,
      "outputs": [
        {
          "output_type": "stream",
          "text": [
            "Epoch 1/50\n",
            "100/100 [==============================] - 9s 87ms/step - loss: 0.7008 - acc: 0.4907 - val_loss: 0.6887 - val_acc: 0.4990\n",
            "Epoch 2/50\n",
            "100/100 [==============================] - 9s 85ms/step - loss: 0.6779 - acc: 0.5629 - val_loss: 0.6713 - val_acc: 0.5590\n",
            "Epoch 3/50\n",
            "100/100 [==============================] - 9s 85ms/step - loss: 0.6438 - acc: 0.6278 - val_loss: 0.6277 - val_acc: 0.6660\n",
            "Epoch 4/50\n",
            "100/100 [==============================] - 9s 86ms/step - loss: 0.6126 - acc: 0.6809 - val_loss: 0.5831 - val_acc: 0.6990\n",
            "Epoch 5/50\n",
            "100/100 [==============================] - 9s 85ms/step - loss: 0.5958 - acc: 0.6920 - val_loss: 0.5975 - val_acc: 0.6730\n",
            "Epoch 6/50\n",
            "100/100 [==============================] - 9s 86ms/step - loss: 0.5805 - acc: 0.6858 - val_loss: 0.5496 - val_acc: 0.7150\n",
            "Epoch 7/50\n",
            "100/100 [==============================] - 9s 85ms/step - loss: 0.5644 - acc: 0.7075 - val_loss: 0.5639 - val_acc: 0.7010\n",
            "Epoch 8/50\n",
            "100/100 [==============================] - 9s 87ms/step - loss: 0.5515 - acc: 0.7107 - val_loss: 0.5613 - val_acc: 0.7160\n",
            "Epoch 9/50\n",
            "100/100 [==============================] - 9s 85ms/step - loss: 0.5181 - acc: 0.7423 - val_loss: 0.5313 - val_acc: 0.7440\n",
            "Epoch 10/50\n",
            "100/100 [==============================] - 9s 85ms/step - loss: 0.5197 - acc: 0.7575 - val_loss: 0.5366 - val_acc: 0.7390\n",
            "Epoch 11/50\n",
            "100/100 [==============================] - 8s 85ms/step - loss: 0.5008 - acc: 0.7527 - val_loss: 0.5064 - val_acc: 0.7640\n",
            "Epoch 12/50\n",
            "100/100 [==============================] - 9s 86ms/step - loss: 0.4882 - acc: 0.7689 - val_loss: 0.4982 - val_acc: 0.7600\n",
            "Epoch 13/50\n",
            "100/100 [==============================] - 9s 85ms/step - loss: 0.4673 - acc: 0.8005 - val_loss: 0.5254 - val_acc: 0.7450\n",
            "Epoch 14/50\n",
            "100/100 [==============================] - 8s 85ms/step - loss: 0.4623 - acc: 0.7906 - val_loss: 0.5469 - val_acc: 0.7350\n",
            "Epoch 15/50\n",
            "100/100 [==============================] - 9s 87ms/step - loss: 0.4574 - acc: 0.7809 - val_loss: 0.5413 - val_acc: 0.7340\n",
            "Epoch 16/50\n",
            "100/100 [==============================] - 9s 87ms/step - loss: 0.4549 - acc: 0.7833 - val_loss: 0.4801 - val_acc: 0.7700\n",
            "Epoch 17/50\n",
            "100/100 [==============================] - 9s 88ms/step - loss: 0.4407 - acc: 0.7829 - val_loss: 0.4765 - val_acc: 0.7730\n",
            "Epoch 18/50\n",
            "100/100 [==============================] - 9s 87ms/step - loss: 0.4202 - acc: 0.8162 - val_loss: 0.4585 - val_acc: 0.7830\n",
            "Epoch 19/50\n",
            "100/100 [==============================] - 9s 87ms/step - loss: 0.4120 - acc: 0.8117 - val_loss: 0.5115 - val_acc: 0.7580\n",
            "Epoch 20/50\n",
            "100/100 [==============================] - 9s 87ms/step - loss: 0.3972 - acc: 0.8259 - val_loss: 0.4651 - val_acc: 0.7820\n",
            "Epoch 21/50\n",
            "100/100 [==============================] - 9s 87ms/step - loss: 0.3997 - acc: 0.8144 - val_loss: 0.5442 - val_acc: 0.7410\n",
            "Epoch 22/50\n",
            "100/100 [==============================] - 9s 87ms/step - loss: 0.3844 - acc: 0.8309 - val_loss: 0.4914 - val_acc: 0.7540\n",
            "Epoch 23/50\n",
            "100/100 [==============================] - 9s 87ms/step - loss: 0.3897 - acc: 0.8317 - val_loss: 0.4331 - val_acc: 0.8010\n",
            "Epoch 24/50\n",
            "100/100 [==============================] - 9s 89ms/step - loss: 0.3882 - acc: 0.8415 - val_loss: 0.4618 - val_acc: 0.7750\n",
            "Epoch 25/50\n",
            "100/100 [==============================] - 9s 88ms/step - loss: 0.3358 - acc: 0.8548 - val_loss: 0.4501 - val_acc: 0.7950\n",
            "Epoch 26/50\n",
            "100/100 [==============================] - 9s 85ms/step - loss: 0.3652 - acc: 0.8406 - val_loss: 0.4992 - val_acc: 0.7740\n",
            "Epoch 27/50\n",
            "100/100 [==============================] - 9s 86ms/step - loss: 0.3372 - acc: 0.8503 - val_loss: 0.4007 - val_acc: 0.8280\n",
            "Epoch 28/50\n",
            "100/100 [==============================] - 9s 87ms/step - loss: 0.3317 - acc: 0.8504 - val_loss: 0.4710 - val_acc: 0.7870\n",
            "Epoch 29/50\n",
            "100/100 [==============================] - 9s 85ms/step - loss: 0.3172 - acc: 0.8689 - val_loss: 0.4557 - val_acc: 0.8190\n",
            "Epoch 30/50\n",
            "100/100 [==============================] - 9s 86ms/step - loss: 0.3219 - acc: 0.8594 - val_loss: 0.4810 - val_acc: 0.7840\n",
            "Epoch 31/50\n",
            "100/100 [==============================] - 9s 86ms/step - loss: 0.3053 - acc: 0.8642 - val_loss: 0.4089 - val_acc: 0.8170\n",
            "Epoch 32/50\n",
            "100/100 [==============================] - 9s 86ms/step - loss: 0.3138 - acc: 0.8665 - val_loss: 0.4391 - val_acc: 0.7980\n"
          ],
          "name": "stdout"
        }
      ]
    },
    {
      "cell_type": "code",
      "metadata": {
        "id": "Odl4GyjIDzwn"
      },
      "source": [
        "model.save('cats_vs_dogs_final.h5')"
      ],
      "execution_count": null,
      "outputs": []
    },
    {
      "cell_type": "code",
      "metadata": {
        "id": "SOGnKjwTQ9U_"
      },
      "source": [
        "import numpy as np\r\n",
        "import pandas as pd\r\n",
        "import matplotlib.pyplot as plt"
      ],
      "execution_count": null,
      "outputs": []
    },
    {
      "cell_type": "code",
      "metadata": {
        "colab": {
          "base_uri": "https://localhost:8080/",
          "height": 298
        },
        "id": "XVNo7lcJDzzQ",
        "outputId": "59c49378-1f9e-4b3b-c358-5742ac14d5ec"
      },
      "source": [
        "acc = model.history.history['acc']\r\n",
        "val_acc = model.history.history['val_acc']\r\n",
        "loss = model.history.history['loss']\r\n",
        "val_loss = model.history.history['val_loss']\r\n",
        "\r\n",
        "epochs = range(1,len(acc)+1)\r\n",
        "\r\n",
        "plt.plot(epochs,acc,'bo',label ='Training_acc')\r\n",
        "plt.plot(epochs,val_acc,'b',label = 'Validation_acc')\r\n",
        "plt.title('Training vs Validation Accuracy')\r\n",
        "plt.legend()"
      ],
      "execution_count": null,
      "outputs": [
        {
          "output_type": "execute_result",
          "data": {
            "text/plain": [
              "<matplotlib.legend.Legend at 0x7f80f10d3a10>"
            ]
          },
          "metadata": {
            "tags": []
          },
          "execution_count": 249
        },
        {
          "output_type": "display_data",
          "data": {
            "image/png": "[encoded data removed]",
            "text/plain": [
              "<Figure size 432x288 with 1 Axes>"
            ]
          },
          "metadata": {
            "tags": [],
            "needs_background": "light"
          }
        }
      ]
    },
    {
      "cell_type": "code",
      "metadata": {
        "colab": {
          "base_uri": "https://localhost:8080/",
          "height": 298
        },
        "id": "oZUxrJFhh-db",
        "outputId": "128b55d5-415e-452a-d0ad-8a2e75240139"
      },
      "source": [
        "plt.plot(epochs,loss,'bo',label ='Training_loss')\r\n",
        "plt.plot(epochs,val_loss,'b',label = 'Validation_loss')\r\n",
        "plt.title('Training vs Validation Accuracy')\r\n",
        "plt.legend()"
      ],
      "execution_count": null,
      "outputs": [
        {
          "output_type": "execute_result",
          "data": {
            "text/plain": [
              "<matplotlib.legend.Legend at 0x7f80f106f4d0>"
            ]
          },
          "metadata": {
            "tags": []
          },
          "execution_count": 250
        },
        {
          "output_type": "display_data",
          "data": {
            "image/png": "[encoded data removed]",
            "text/plain": [
              "<Figure size 432x288 with 1 Axes>"
            ]
          },
          "metadata": {
            "tags": [],
            "needs_background": "light"
          }
        }
      ]
    },
    {
      "cell_type": "code",
      "metadata": {
        "colab": {
          "base_uri": "https://localhost:8080/"
        },
        "id": "_JabBvRdifA6",
        "outputId": "4125d0e8-ffe0-420b-c69a-4104a391971c"
      },
      "source": [
        "test_generator = test_datagen.flow_from_directory('/content/CATS_DOGS/test1',target_size=(150,150),batch_size = 20,class_mode='binary')"
      ],
      "execution_count": null,
      "outputs": [
        {
          "output_type": "stream",
          "text": [
            "Found 5000 images belonging to 2 classes.\n"
          ],
          "name": "stdout"
        }
      ]
    },
    {
      "cell_type": "code",
      "metadata": {
        "colab": {
          "base_uri": "https://localhost:8080/"
        },
        "id": "Rw514X4MlJGi",
        "outputId": "8e583908-81af-4744-c63e-fdf35128c65d"
      },
      "source": [
        "from keras.models import load_model\r\n",
        "model = load_model('cats_vs_dogs_final.h5')\r\n",
        "model.summary()"
      ],
      "execution_count": null,
      "outputs": [
        {
          "output_type": "stream",
          "text": [
            "Model: \"sequential_8\"\n",
            "_________________________________________________________________\n",
            "Layer (type)                 Output Shape              Param #   \n",
            "=================================================================\n",
            "conv2d_28 (Conv2D)           (None, 148, 148, 32)      896       \n",
            "_________________________________________________________________\n",
            "max_pooling2d_28 (MaxPooling (None, 74, 74, 32)        0         \n",
            "_________________________________________________________________\n",
            "conv2d_29 (Conv2D)           (None, 72, 72, 64)        18496     \n",
            "_________________________________________________________________\n",
            "max_pooling2d_29 (MaxPooling (None, 36, 36, 64)        0         \n",
            "_________________________________________________________________\n",
            "conv2d_30 (Conv2D)           (None, 34, 34, 128)       73856     \n",
            "_________________________________________________________________\n",
            "max_pooling2d_30 (MaxPooling (None, 17, 17, 128)       0         \n",
            "_________________________________________________________________\n",
            "conv2d_31 (Conv2D)           (None, 15, 15, 128)       147584    \n",
            "_________________________________________________________________\n",
            "max_pooling2d_31 (MaxPooling (None, 7, 7, 128)         0         \n",
            "_________________________________________________________________\n",
            "flatten_7 (Flatten)          (None, 6272)              0         \n",
            "_________________________________________________________________\n",
            "dense_14 (Dense)             (None, 512)               3211776   \n",
            "_________________________________________________________________\n",
            "dense_15 (Dense)             (None, 1)                 513       \n",
            "=================================================================\n",
            "Total params: 3,453,121\n",
            "Trainable params: 3,453,121\n",
            "Non-trainable params: 0\n",
            "_________________________________________________________________\n"
          ],
          "name": "stdout"
        }
      ]
    },
    {
      "cell_type": "code",
      "metadata": {
        "colab": {
          "base_uri": "https://localhost:8080/"
        },
        "id": "JPsox_GQkKcc",
        "outputId": "8dabe09a-eba2-4247-abc6-0e2024ce5daa"
      },
      "source": [
        "test_loss,test_acc = model.evaluate(test_generator,steps = 50)\r\n",
        "print('test acc :', test_acc)"
      ],
      "execution_count": null,
      "outputs": [
        {
          "output_type": "stream",
          "text": [
            "50/50 [==============================] - 3s 54ms/step - loss: 0.5183 - acc: 0.7720\n",
            "test acc : 0.7720000147819519\n"
          ],
          "name": "stdout"
        }
      ]
    },
    {
      "cell_type": "code",
      "metadata": {
        "id": "WCaCnFR2kfU0"
      },
      "source": [
        ""
      ],
      "execution_count": null,
      "outputs": []
    }
  ]
}